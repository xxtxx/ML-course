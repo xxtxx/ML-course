{
 "cells": [
  {
   "cell_type": "code",
   "execution_count": 2,
   "metadata": {
    "collapsed": false,
    "slideshow": {
     "slide_type": "skip"
    }
   },
   "outputs": [
    {
     "data": {
      "text/html": [
       "<style>html, body{overflow-y: visible !important} .CodeMirror{min-width:100% !important;} .rise-enabled .CodeMirror, .rise-enabled .output_subarea{font-size:100%; line-height:1.0; overflow: visible;} .output_subarea pre{width:100%}</style>"
      ],
      "text/plain": [
       "<IPython.core.display.HTML object>"
      ]
     },
     "execution_count": 2,
     "metadata": {},
     "output_type": "execute_result"
    }
   ],
   "source": [
    "from preamble import *\n",
    "HTML('''<style>html, body{overflow-y: visible !important} .CodeMirror{min-width:100% !important;} .rise-enabled .CodeMirror, .rise-enabled .output_subarea{font-size:100%; line-height:1.0; overflow: visible;} .output_subarea pre{width:100%}</style>''') # For slides\n",
    "#HTML('''<style>html, body{overflow-y: visible !important} .output_subarea{font-size:100%; line-height:1.0; overflow: visible;}</style>''') # For slides\n",
    "InteractiveShell.ast_node_interactivity = \"all\""
   ]
  },
  {
   "cell_type": "markdown",
   "metadata": {
    "slideshow": {
     "slide_type": "slide"
    }
   },
   "source": [
    "## Agenda\n",
    "\n",
    "- Introduction and Motivation\n",
    "- Artificial Neuron\n",
    "- Gradient Descent\n",
    "- Backpropagation\n",
    "- **Perceptron**\n",
    "- Multilayered Perceptron\n",
    "- MLP Classification\n",
    "- Model Design\n",
    "- Optimization\n",
    "\n",
    "- Convolutional Neural Network\n",
    "- Recurrent Neural Network"
   ]
  },
  {
   "cell_type": "markdown",
   "metadata": {
    "collapsed": false,
    "slideshow": {
     "slide_type": "slide"
    }
   },
   "source": [
    "![Classify Data](images/classify-data.png)\n",
    "\n",
    "\n",
    "- Input: $x_0$, $x_1$\n",
    "- Output is $f_c(\\mathbf{x}) = P(y=c|\\mathbf{x})$\n"
   ]
  },
  {
   "cell_type": "markdown",
   "metadata": {
    "slideshow": {
     "slide_type": "slide"
    }
   },
   "source": [
    "## Artificial Neuron Classification \n",
    "![Neuron](images/neuron-classification.png)\n",
    "- Input: by $x_0$, $x_1$, vector notation $\\mathbf{x}$\n",
    "- Edge parameters: $\\mathbf{w}$ + bias term $b$\n",
    "- A single neuron implements:\n",
    "$$ o(x; \\theta) = \\phi(\\sum_{i} {w_i x_i} + b) = \\phi(\\mathbf{w}^\\top \\mathbf{x})$$\n",
    "$$\\phi(\\mathbf{x}) = logit(\\mathbf{w}^T \\mathbf{x}) = \\frac{1}{1+e^{-\\mathbf{w}^\\top \\mathbf{x}}}$$\n",
    "- Bounded from 0 to 1. Smooth, positive function.\n",
    "![Sigmoid functin](images/sigmoid.png)"
   ]
  },
  {
   "cell_type": "markdown",
   "metadata": {
    "collapsed": true,
    "slideshow": {
     "slide_type": "slide"
    }
   },
   "source": [
    "## Binary classification\n",
    "- Output is $o_c(\\mathbf{x}) = P(y=c|\\mathbf{x})$\n",
    "- $o_1(\\mathbf{x}) = P(y=1|\\mathbf{x}) = \\phi(\\mathbf{w}^\\top \\mathbf{x}) = logit(\\mathbf{w}\\top \\mathbf{x})$ \n",
    "- $o_0 = (1 - o_1)$\n",
    "\n",
    "### Gradient Descent Optimization:\n",
    "- Model: \n",
    "    - $o_\\mathbf{\\theta} = logit(\\mathbf{w}^\\top x + b) = \\frac{1}{1+e^{-\\mathbf{w}^\\top \\mathbf{x} + b}}$\n",
    "    - $\\theta : \\{\\mathbf{w}, b\\}$\n",
    "    \n",
    "- Loss function: \n",
    "    - $L(\\mathbf{x}, y; \\theta) = - \\sum_c 1_{(y=c)} \\log\\ o_c = -log\\ o_y$\n",
    "    - Log for numerical stability and math simplicity\n",
    "\n",
    "- Gradient of $L$ wrt $\\mathbf{w}$ and $b$:\n",
    "    \n",
    "    - $\\frac{\\partial}{\\partial w}{L(.)}$ for both $w_0$ and $w_1$\n",
    "    - $\\frac{\\partial}{\\partial b}{L(.)}$"
   ]
  },
  {
   "cell_type": "markdown",
   "metadata": {
    "collapsed": true,
    "scrolled": true,
    "slideshow": {
     "slide_type": "slide"
    }
   },
   "source": [
    "## Compute Graph\n",
    "- $\\frac{\\partial{L}}{\\partial{L}}=1$\n",
    "- $\\frac{\\partial{L}}{\\partial{o}}=\\frac{\\partial -\\log\\ o}{\\partial o}=-\\frac{1}{o}$\n",
    "- $\\frac{\\partial{o_\\theta(\\mathbf{x})}}{\\partial \\theta}=\\frac{\\partial{logit(\\mathbf{x}; \\theta)}}{\\partial \\theta}=(1-logit(\\mathbf{x}; \\theta))(logit(\\mathbf{x};\\theta))$\n",
    "![Compute Graph Classification](images/compute-graph-classification.png)"
   ]
  },
  {
   "cell_type": "markdown",
   "metadata": {
    "slideshow": {
     "slide_type": "slide"
    }
   },
   "source": [
    "## Implementation \n",
    "\n",
    "### Tensforflow"
   ]
  },
  {
   "cell_type": "code",
   "execution_count": 3,
   "metadata": {
    "collapsed": true,
    "slideshow": {
     "slide_type": "fragment"
    }
   },
   "outputs": [],
   "source": [
    "import tensorflow as tf\n",
    "import numpy\n",
    "import matplotlib.pyplot as plt\n",
    "rng = numpy.random"
   ]
  },
  {
   "cell_type": "code",
   "execution_count": 4,
   "metadata": {
    "collapsed": false,
    "slideshow": {
     "slide_type": "fragment"
    }
   },
   "outputs": [],
   "source": [
    "# Training Data\n",
    "train_X = numpy.asarray([[-0.4, 0.3], [-0.3, -0.1], [-0.2, 0.4], [-0.1, 0.1], [0.1, -0.5], [0.2, -0.9], [0.3, 0.2], [0.4, -0.6]])\n",
    "train_Y = numpy.asarray([[1], [1], [1], [1], [0], [0], [0], [0]])\n",
    "n_samples = train_X.shape[0]"
   ]
  },
  {
   "cell_type": "code",
   "execution_count": 5,
   "metadata": {
    "collapsed": true,
    "slideshow": {
     "slide_type": "fragment"
    }
   },
   "outputs": [],
   "source": [
    "# Parameters\n",
    "learning_rate = 0.01\n",
    "training_epochs = 25\n",
    "display_step = 1\n",
    "\n",
    "# tf Graph Input\n",
    "x = tf.placeholder(tf.float32, [None, 2]) # input data\n",
    "y = tf.placeholder(tf.float32, [None, 1]) # lables\n",
    "\n",
    "# Set model weights\n",
    "W = tf.Variable(tf.zeros([2, 1]))\n",
    "b = tf.Variable(tf.zeros([1]))\n",
    "\n",
    "# Construct model\n",
    "pred = tf.sigmoid(tf.matmul(x, W) + b) # Sigmoid activation\n",
    "\n",
    "# Minimize error using cross entropy\n",
    "cost = tf.reduce_mean(-tf.reduce_sum(y*tf.log(pred), reduction_indices=1))\n",
    "# Gradient Descent\n",
    "optimizer = tf.train.GradientDescentOptimizer(learning_rate).minimize(cost)\n",
    "\n",
    "# Initializing the variables\n",
    "init = tf.global_variables_initializer()"
   ]
  },
  {
   "cell_type": "code",
   "execution_count": 6,
   "metadata": {
    "collapsed": false,
    "slideshow": {
     "slide_type": "fragment"
    }
   },
   "outputs": [
    {
     "name": "stdout",
     "output_type": "stream",
     "text": [
      "Epoch: 0001 cost= 0.346573591 W= [[-0.001], [ 0.   ]] b= [ 0.002]\n",
      "Epoch: 0002 cost= 0.345890850 W= [[-0.001], [ 0.001]] b= [ 0.005]\n",
      "Epoch: 0003 cost= 0.345209986 W= [[-0.002], [ 0.001]] b= [ 0.007]\n",
      "Epoch: 0004 cost= 0.344530970 W= [[-0.002], [ 0.002]] b= [ 0.01]\n",
      "Epoch: 0005 cost= 0.343853831 W= [[-0.003], [ 0.002]] b= [ 0.012]\n",
      "Epoch: 0006 cost= 0.343178540 W= [[-0.004], [ 0.003]] b= [ 0.015]\n",
      "Epoch: 0007 cost= 0.342505097 W= [[-0.004], [ 0.003]] b= [ 0.017]\n",
      "Epoch: 0008 cost= 0.341833472 W= [[-0.005], [ 0.003]] b= [ 0.02]\n",
      "Epoch: 0009 cost= 0.341163725 W= [[-0.006], [ 0.004]] b= [ 0.022]\n",
      "Epoch: 0010 cost= 0.340495765 W= [[-0.006], [ 0.004]] b= [ 0.025]\n",
      "Epoch: 0011 cost= 0.339829654 W= [[-0.007], [ 0.005]] b= [ 0.027]\n",
      "Epoch: 0012 cost= 0.339165390 W= [[-0.007], [ 0.005]] b= [ 0.03]\n",
      "Epoch: 0013 cost= 0.338502884 W= [[-0.008], [ 0.006]] b= [ 0.032]\n",
      "Epoch: 0014 cost= 0.337842226 W= [[-0.009], [ 0.006]] b= [ 0.035]\n",
      "Epoch: 0015 cost= 0.337183416 W= [[-0.009], [ 0.006]] b= [ 0.037]\n",
      "Epoch: 0016 cost= 0.336526364 W= [[-0.01 ], [ 0.007]] b= [ 0.04]\n",
      "Epoch: 0017 cost= 0.335871071 W= [[-0.011], [ 0.007]] b= [ 0.042]\n",
      "Epoch: 0018 cost= 0.335217625 W= [[-0.011], [ 0.008]] b= [ 0.044]\n",
      "Epoch: 0019 cost= 0.334565938 W= [[-0.012], [ 0.008]] b= [ 0.047]\n",
      "Epoch: 0020 cost= 0.333916068 W= [[-0.012], [ 0.009]] b= [ 0.049]\n",
      "Epoch: 0021 cost= 0.333267957 W= [[-0.013], [ 0.009]] b= [ 0.052]\n",
      "Epoch: 0022 cost= 0.332621574 W= [[-0.014], [ 0.009]] b= [ 0.054]\n",
      "Epoch: 0023 cost= 0.331977010 W= [[-0.014], [ 0.01 ]] b= [ 0.057]\n",
      "Epoch: 0024 cost= 0.331334203 W= [[-0.015], [ 0.01 ]] b= [ 0.059]\n",
      "Epoch: 0025 cost= 0.330693126 W= [[-0.015], [ 0.011]] b= [ 0.061]\n",
      "Optimization Finished!\n",
      "Accuracy: 1.0\n"
     ]
    }
   ],
   "source": [
    "# Launch the graph\n",
    "with tf.Session() as sess:\n",
    "    sess.run(init)\n",
    "\n",
    "    # Training cycle\n",
    "    for epoch in range(training_epochs):\n",
    "        # Training loop\n",
    "        _, c = sess.run([optimizer, cost], feed_dict={x: train_X, y: train_Y})\n",
    "        \n",
    "        # Display logs per epoch step\n",
    "        if (epoch+1) % display_step == 0:\n",
    "            print (\"Epoch:\", '%04d' % (epoch+1), \"cost=\", \"{:.9f}\".format(c), \n",
    "                   \"W=\", numpy.array_str(sess.run(W)).replace('\\n', ',')\n",
    "                   , \"b=\", sess.run(b))\n",
    "\n",
    "    print (\"Optimization Finished!\")\n",
    "\n",
    "    # Test model\n",
    "    correct_prediction = tf.equal(tf.argmax(pred, 1), tf.argmax(y, 1))\n",
    "    \n",
    "    # Calculate accuracy on training data\n",
    "    accuracy = tf.reduce_mean(tf.cast(correct_prediction, tf.float32))\n",
    "    print (\"Accuracy:\", accuracy.eval({x: train_X, y: train_Y}))"
   ]
  },
  {
   "cell_type": "code",
   "execution_count": 20,
   "metadata": {
    "collapsed": false,
    "scrolled": true,
    "slideshow": {
     "slide_type": "slide"
    }
   },
   "outputs": [
    {
     "data": {
      "text/plain": [
       "[<matplotlib.lines.Line2D at 0x11d322a20>]"
      ]
     },
     "execution_count": 20,
     "metadata": {},
     "output_type": "execute_result"
    },
    {
     "data": {
      "text/plain": [
       "[<matplotlib.lines.Line2D at 0x11d2e5588>]"
      ]
     },
     "execution_count": 20,
     "metadata": {},
     "output_type": "execute_result"
    },
    {
     "data": {
      "text/plain": [
       "(-1, 1)"
      ]
     },
     "execution_count": 20,
     "metadata": {},
     "output_type": "execute_result"
    },
    {
     "data": {
      "text/plain": [
       "(-1, 1)"
      ]
     },
     "execution_count": 20,
     "metadata": {},
     "output_type": "execute_result"
    },
    {
     "data": {
      "text/plain": [
       "<matplotlib.legend.Legend at 0x11d322ba8>"
      ]
     },
     "execution_count": 20,
     "metadata": {},
     "output_type": "execute_result"
    },
    {
     "data": {
      "application/pdf": "[encoded data removed]",
      "image/png": "[encoded data removed]",
      "text/plain": [
       "<matplotlib.figure.Figure at 0x11d2e55c0>"
      ]
     },
     "metadata": {},
     "output_type": "display_data"
    }
   ],
   "source": [
    "#Graphic display\n",
    "\n",
    "plt.plot(train_X[0:3, 0], train_X[0:3, 1],  'ro', label='class 1')\n",
    "plt.plot(train_X[4:7, 0], train_X[4:7, 1],  'bv', label='class 2')\n",
    "#plt.plot(train_X, [-0.01536841,  0.01075379],  b= [ 0.06148605], label='Classifier boundary')\n",
    "\n",
    "plt.ylim(-1, 1)\n",
    "plt.xlim(-1, 1)\n",
    "\n",
    "plt.legend()\n",
    "plt.show()"
   ]
  },
  {
   "cell_type": "markdown",
   "metadata": {
    "slideshow": {
     "slide_type": "slide"
    }
   },
   "source": [
    "### Can solve linearly separable classes\n",
    "![xor visualization](images/xor-visualization.png)\n",
    "\n",
    "\n",
    "### However, it cannot solve linearly not separable\n",
    "![xor visualization](images/xor-visualization2.png)\n",
    "\n"
   ]
  },
  {
   "cell_type": "markdown",
   "metadata": {
    "slideshow": {
     "slide_type": "slide"
    }
   },
   "source": [
    "### Linearly separable data\n",
    "![Training single neuron](images/training-single-neuron-start.png)"
   ]
  },
  {
   "cell_type": "markdown",
   "metadata": {
    "slideshow": {
     "slide_type": "fragment"
    }
   },
   "source": [
    "### Linearly separable data (converged)\n",
    "![Training single neuron](images/training-single-neuron-end.png)"
   ]
  },
  {
   "cell_type": "markdown",
   "metadata": {
    "slideshow": {
     "slide_type": "slide"
    }
   },
   "source": [
    "### Linearly not separable data\n",
    "![Training single neuron](images/training-single-neuron-non-start.png)"
   ]
  },
  {
   "cell_type": "markdown",
   "metadata": {
    "slideshow": {
     "slide_type": "fragment"
    }
   },
   "source": [
    "### Linearly not separable data (after training)\n",
    "![Training single neuron](images/training-single-neuron-non-end.png)"
   ]
  }
 ],
 "metadata": {
  "anaconda-cloud": {},
  "celltoolbar": "Slideshow",
  "kernelspec": {
   "display_name": "Python [default]",
   "language": "python",
   "name": "python3"
  },
  "language_info": {
   "codemirror_mode": {
    "name": "ipython",
    "version": 3
   },
   "file_extension": ".py",
   "mimetype": "text/x-python",
   "name": "python",
   "nbconvert_exporter": "python",
   "pygments_lexer": "ipython3",
   "version": "3.5.2"
  }
 },
 "nbformat": 4,
 "nbformat_minor": 1
}
