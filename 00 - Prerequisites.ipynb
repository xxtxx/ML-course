{
 "cells": [
  {
   "cell_type": "markdown",
   "metadata": {
    "slideshow": {
     "slide_type": "slide"
    }
   },
   "source": [
    "# Prerequisites"
   ]
  },
  {
   "cell_type": "markdown",
   "metadata": {
    "slideshow": {
     "slide_type": "slide"
    }
   },
   "source": [
    "## Course materials on GitHub\n",
    "The course materials are available on GitHub, so that you always have the latest updates. To download them, you first need to [install git](https://git-scm.com/book/en/v1/Getting-Started-Installing-Git) (if you haven't already).\n",
    "\n",
    "You can 'clone' the course as follows from the command line (you can also use a [GUI](https://desktop.github.com/))\n",
    "\n",
    "    git clone https://github.com/joaquinvanschoren/ML-course.git\n",
    "    \n",
    "To download updates, run\n",
    "\n",
    "    git pull\n",
    "    \n",
    "For more details on using git, see the [GitHub 10-minute tutorial](https://guides.github.com/activities/hello-world/\n",
    "). If you want to suggest improvements, you can! Just create a pull request and we'll review it.\n",
    "\n",
    "Alternatively, you can download the course [as a .zip file](https://github.com/joaquinvanschoren/ML-course). Click 'Clone or download'. Download individual files with right-click -> Save Link As..."
   ]
  },
  {
   "cell_type": "markdown",
   "metadata": {
    "slideshow": {
     "slide_type": "slide"
    }
   },
   "source": [
    "## Python\n",
    "You first need to set up a Python environment (if you do not have done so already). The easiest way to do this is by installing [Anaconda](https://www.continuum.io/downloads). We will be using Python 3, so be sure to install the right version. \n",
    "\n",
    "**Note: to work with TensorFlow, it is best to install Python 3.5 (not 3.6). For Windows users, the safest option would be to use Anaconda 3, version 4.1.1, 64 bit (see the discussion below). Select the right one from [this list](https://repo.continuum.io/archive/index.html)**\n",
    "\n",
    "If you are completely new to Python, we recommend to take an introductory online course, such as the [DataCamp Intro to Python for Data Science](https://www.datacamp.com/courses/intro-to-python-for-data-science), or the [Whirlwind Tour of Python](https://github.com/jakevdp/WhirlwindTourOfPython)."
   ]
  },
  {
   "cell_type": "markdown",
   "metadata": {
    "slideshow": {
     "slide_type": "slide"
    }
   },
   "source": [
    "## Required packages\n",
    "Next, you'll need to install several packages that we'll be using extensively. You'll need to run these commands on the command line.\n",
    "\n",
    "**NOTE: Windows users: Follow the guidelines under the section 'Installing packages for windows'.**\n",
    "\n",
    "### Installing packages with conda\n",
    "If you are using Anaconda, you can use the ``conda`` package manager to install all packages:\n",
    "\n",
    "    conda install numpy scipy scikit-learn matplotlib pandas pillow graphviz\n",
    "\n",
    "and then *also*\n",
    "\n",
    "    pip install graphviz"
   ]
  },
  {
   "cell_type": "markdown",
   "metadata": {
    "slideshow": {
     "slide_type": "subslide"
    }
   },
   "source": [
    "To install *TensorFlow*, follow the instructions [here](https://www.tensorflow.org/get_started/os_setup#anaconda_installation).\n",
    "\n",
    "On Linux/MacOS, you basically need to do the following:\n",
    "    \n",
    "    conda install -c conda-forge tensorflow\n",
    "    \n",
    "On Windows, follow the instructions to install via pip.    "
   ]
  },
  {
   "cell_type": "markdown",
   "metadata": {
    "slideshow": {
     "slide_type": "subslide"
    }
   },
   "source": [
    "To install *Keras*, follow the instcutions [here](https://keras.io/#installation)"
   ]
  },
  {
   "cell_type": "markdown",
   "metadata": {
    "slideshow": {
     "slide_type": "skip"
    }
   },
   "source": [
    "### Installing packages with pip\n",
    "With most other setups (not conda), you can use pip to install all packages. Pip is the Python Package index. It is included in most Python installations.\n",
    "\n",
    "    pip install numpy scipy scikit-learn matplotlib pandas pillow graphviz\n",
    "\n",
    "Note: we'll be using scikit-learn 0.18, which is currently the latest version.\n",
    "\n",
    "You also need to install the graphiz C-library:  \n",
    "\n",
    "* OS X: use homebrew: ``brew install graphviz``\n",
    "* Ubuntu/debian: use apt-get: ``apt-get install graphviz``.\n",
    "* Installing graphviz on Windows can be tricky and using conda / anaconda is recommended."
   ]
  },
  {
   "cell_type": "markdown",
   "metadata": {
    "slideshow": {
     "slide_type": "subslide"
    }
   },
   "source": [
    "### Installing packages on Windows\n",
    "\n",
    "A student has reported that the above installation causes difficulties with TensorFlow on Windows, since TensorFlow will not work with the latest versions of Anaconda and Python. Here is his solution. Use the exact software versions mentioned. Newer versions may fail. \n",
    "\n",
    "Note: For technical details, see the discussion on Canvas.\n",
    "\n",
    "1. Make sure your PC is running a 64-bit Windows.\n",
    "2. Download and install Microsoft Visual C++ 2015 Update 3 Runtime from [here](https://www.microsoft.com/en-us/download/details.aspx?id=53840). (Update 3 is included in this link.)\n",
    "3. Download and install Anaconda3 4.1 from [here](https://repo.continuum.io/archive/Anaconda3-4.1.1-Windows-x86_64.exe).\n",
    "4. Download TensorFlow 0.12.1 from [here](https://storage.googleapis.com/tensorflow/windows/cpu/tensorflow-0.12.1-cp35-cp35m-win_amd64.whl).\n",
    "5. Install TensorFlow: `pip install C:\\TensorFlow\\Download\\Location\\tensorflow-0.12.1-cp35-cp35m-win_amd64.whl`."
   ]
  },
  {
   "cell_type": "markdown",
   "metadata": {
    "slideshow": {
     "slide_type": "skip"
    }
   },
   "source": [
    "Note: if you are not using Anaconda, and you already have a custom Python environment set up, possibly using a different Python version, it may be wise to [set up a virtual environment](http://docs.python-guide.org/en/latest/dev/virtualenvs/) for this course so that it does not affect your existing environment.\n"
   ]
  },
  {
   "cell_type": "markdown",
   "metadata": {
    "slideshow": {
     "slide_type": "slide"
    }
   },
   "source": [
    "### Installing OpenML\n",
    "OpenML is used to easily import datasets and share models and experiments. The OpenML package is not yet available through pip. We will need to install it from github, as well as the latest version of Python's ARFF reader.\n",
    "    \n",
    "With git installed, run the following:\n",
    "```\n",
    "    pip install git+https://github.com/renatopp/liac-arff@master    \n",
    "    pip install git+https://github.com/openml/openml-python.git@develop\n",
    "``` \n",
    "You'll also need an OpenML account to download/upload data. If you don't have one, [go ahead and create one](http://www.openml.org)."
   ]
  },
  {
   "cell_type": "markdown",
   "metadata": {
    "slideshow": {
     "slide_type": "slide"
    }
   },
   "source": [
    "### Installing Jupyter notebooks\n",
    "As our coding environment, we'll be using Jupyter notebooks. They interleave documentation (in markdown) with executable Python code, and they run in your browser. That means that you can easily edit and re-run all the code in this course.\n",
    "\n",
    "If you use Anaconda, Jupyter is already installed. If you use pip, you can install it with\n",
    "\n",
    "    pip3 install jupyter\n",
    "    \n",
    "To test if it works, run\n",
    "\n",
    "    jupyter notebook\n",
    "    \n",
    "A browser window should open showing the files in your current directory. You can shut down the notebook by typing CTRL-C in your terminal.\n",
    "\n",
    "If you are new to notebooks, [take this quick tutorial](https://try.jupyter.org/), or [this more detailed one](http://nbviewer.jupyter.org/github/jupyter/notebook/tree/master/docs/source/examples/Notebook/). Optionally, for a more in-depth coverage, [try the DataCamp tutorial](https://www.datacamp.com/community/tutorials/tutorial-jupyter-notebook#gs.wlHChdo). "
   ]
  },
  {
   "cell_type": "markdown",
   "metadata": {
    "slideshow": {
     "slide_type": "slide"
    }
   },
   "source": [
    "## Testing\n",
    "To test if everything works, download the course materials and run Jupyter (ideally from the directory where you downloaded the course):\n",
    "\n",
    "    jupyter notebook\n",
    "    \n",
    "A browser window should open with all course materials. Open one of the chapters and check if you can execute all code by clicking Cell > Run all."
   ]
  },
  {
   "cell_type": "markdown",
   "metadata": {
    "slideshow": {
     "slide_type": "slide"
    }
   },
   "source": [
    "## Alternative: Everware\n",
    "In case you run into any issues, you can also run all materials in the cloud. This is a special (private beta) service provided by [Everware](https://github.com/everware) with computing resources provided by the [Yandex School of Data Analytics](https://yandexdataschool.com/). It is not (yet) meant for large-scale use, so it may be slow.\n",
    "\n",
    "You'll need a GitHub account to authenticate. If you dont, [you can make one now](github.com). To spin up the service, just click here (it may take a few minutes to boot):  \n",
    "[![run at everware](https://img.shields.io/badge/run%20me-@everware-blue.svg?style=flat)](https://everware.rep.school.yandex.net/hub/oauth_login?repourl=https://github.com/joaquinvanschoren/ML-course)"
   ]
  }
 ],
 "metadata": {
  "anaconda-cloud": {},
  "celltoolbar": "Slideshow",
  "kernelspec": {
   "display_name": "Python [default]",
   "language": "python",
   "name": "python3"
  },
  "language_info": {
   "codemirror_mode": {
    "name": "ipython",
    "version": 3
   },
   "file_extension": ".py",
   "mimetype": "text/x-python",
   "name": "python",
   "nbconvert_exporter": "python",
   "pygments_lexer": "ipython3",
   "version": "3.5.2"
  }
 },
 "nbformat": 4,
 "nbformat_minor": 0
}
