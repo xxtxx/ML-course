{
 "cells": [
  {
   "cell_type": "code",
   "execution_count": 2,
   "metadata": {
    "collapsed": false,
    "slideshow": {
     "slide_type": "skip"
    }
   },
   "outputs": [
    {
     "data": {
      "text/html": [
       "<style>html, body{overflow-y: visible !important} .CodeMirror{min-width:100% !important;} .rise-enabled .CodeMirror, .rise-enabled .output_subarea{font-size:100%; line-height:1.0; overflow: visible;} .output_subarea pre{width:100%}</style>"
      ],
      "text/plain": [
       "<IPython.core.display.HTML object>"
      ]
     },
     "execution_count": 2,
     "metadata": {},
     "output_type": "execute_result"
    }
   ],
   "source": [
    "from preamble import *\n",
    "HTML('''<style>html, body{overflow-y: visible !important} .CodeMirror{min-width:100% !important;} .rise-enabled .CodeMirror, .rise-enabled .output_subarea{font-size:100%; line-height:1.0; overflow: visible;} .output_subarea pre{width:100%}</style>''') # For slides\n",
    "#HTML('''<style>html, body{overflow-y: visible !important} .output_subarea{font-size:100%; line-height:1.0; overflow: visible;}</style>''') # For slides\n",
    "InteractiveShell.ast_node_interactivity = \"all\""
   ]
  },
  {
   "cell_type": "markdown",
   "metadata": {
    "slideshow": {
     "slide_type": "slide"
    }
   },
   "source": [
    "## Agenda\n",
    "\n",
    "- Introduction and Motivation\n",
    "- Artificial Neuron\n",
    "- Gradient Descent\n",
    "- Backpropagation\n",
    "- Perceptron\n",
    "- **Multilayered Perceptron**\n",
    "- MLP Classification\n",
    "- Model Design\n",
    "- Optimization\n",
    "\n",
    "- Convolutional Neural Network\n",
    "- Recurrent Neural Network"
   ]
  },
  {
   "cell_type": "markdown",
   "metadata": {
    "slideshow": {
     "slide_type": "slide"
    }
   },
   "source": [
    "### Artificial Neuron\n",
    "![Neuron](images/neuron.png)\n"
   ]
  },
  {
   "cell_type": "markdown",
   "metadata": {
    "slideshow": {
     "slide_type": "fragment"
    }
   },
   "source": [
    "\n",
    "### Can be stacked\n",
    "![Single layer mlp](images/single-layer-mlp.png)\n",
    "\n"
   ]
  },
  {
   "cell_type": "markdown",
   "metadata": {
    "slideshow": {
     "slide_type": "fragment"
    }
   },
   "source": [
    "\n",
    "### Multiple layers of stacked neurons\n",
    "![Multiplayer perceptron](images/mlp.png)\n"
   ]
  },
  {
   "cell_type": "markdown",
   "metadata": {
    "slideshow": {
     "slide_type": "slide"
    }
   },
   "source": [
    "### Motivation\n",
    "    - Compositional features\n",
    "    \n",
    "![XOR visualization](images/xor-visualization.png)"
   ]
  },
  {
   "cell_type": "markdown",
   "metadata": {
    "slideshow": {
     "slide_type": "fragment"
    }
   },
   "source": [
    "![XOR visualization](images/xor-visualization.png)"
   ]
  },
  {
   "cell_type": "markdown",
   "metadata": {
    "slideshow": {
     "slide_type": "fragment"
    }
   },
   "source": [
    "![XOR visualization](images/xor-visualization3.png)"
   ]
  },
  {
   "cell_type": "markdown",
   "metadata": {
    "slideshow": {
     "slide_type": "slide"
    }
   },
   "source": [
    "![Training single Neuron](images/training-single-neuron2.png)"
   ]
  },
  {
   "cell_type": "markdown",
   "metadata": {
    "slideshow": {
     "slide_type": "fragment"
    }
   },
   "source": [
    "\n",
    "![Single neuron nonlinear](images/single-neuron-nonlinear-features.png)"
   ]
  },
  {
   "cell_type": "markdown",
   "metadata": {
    "slideshow": {
     "slide_type": "slide"
    }
   },
   "source": [
    "### Multilayer Perceptron (MLP) \n",
    "![Image of a Neural Network](images/mlp.png) \n",
    "\n",
    "- Directed acyclic graph\n",
    "- Nodes are artificial neurons\n",
    "- Edges are connections between them \n",
    "* Feedforward Neural Network\n",
    "    - Neurons are organized in layers\n",
    "    - No connection between neurons within a layer\n",
    "    - All neurons in the same layer of the same type"
   ]
  },
  {
   "cell_type": "markdown",
   "metadata": {
    "slideshow": {
     "slide_type": "slide"
    }
   },
   "source": [
    "### Multilayer Perceptron (MLP) \n",
    "![Image of a Neural Network](images/mlp.png)\n",
    "\n",
    "* Each layer creates a new representation of the input data:\n",
    "* $h^{(0)} = f^{(0)}(\\mathbf{x})$\n",
    "* $h^{(1)} = f^{(1)}(\\mathbf{h^{(0)}})$\n",
    "* $y = f^{(2)}(\\mathbf{h^{(1)}})$\n",
    "\n",
    "\n",
    "* Overall MLP is a function $f$\n",
    "* $y=f(x,\\theta)$\n",
    "\n",
    "* Nested functions: $f^{(3)}(f^{(2)}(f^{(1)}(x))))$\n",
    "    * First layer: $f^{(1)}$\n",
    "    * Second layer: $f^{(2)}$\n",
    "    * Third layer: $f^{(3)}$\n",
    "    \n"
   ]
  },
  {
   "cell_type": "markdown",
   "metadata": {
    "slideshow": {
     "slide_type": "slide"
    }
   },
   "source": [
    "Can solve XOR\n",
    "\n",
    "![MLP XOR Start](images/mlp-xor-start.png)\n"
   ]
  },
  {
   "cell_type": "markdown",
   "metadata": {
    "slideshow": {
     "slide_type": "slide"
    }
   },
   "source": [
    "## Gradient Descent\n",
    "- Model: \n",
    "    - $o_\\mathbf{\\theta} = \\phi_1(\\mathbf{w_1}^\\top \\phi_2( \\mathbf{w_2}^\\top\\phi(\\mathbf{w_3}^\\top x)))$\n",
    "    - $\\theta : \\{\\mathbf{W}\\}$\n",
    "- Loss function: \n",
    "    - $L(\\mathbf{x}, y; \\mathbf{W}) = \\frac{1}{2n}\\sum_{i=0}^{n}{(o_\\theta - y)^2}$ \n",
    "    \n",
    "- Gradient of $L$ wrt $\\mathbf{W}$:\n",
    "    \n",
    "    - $\\frac{\\partial}{\\partial W}{L(.)}$ \n",
    "\n",
    "- biases omitted for simplicity"
   ]
  },
  {
   "cell_type": "markdown",
   "metadata": {
    "slideshow": {
     "slide_type": "slide"
    }
   },
   "source": [
    "### Layered representation\n",
    "\n",
    "![MLP consolidated](images/mlp-consolidated.png)\n"
   ]
  },
  {
   "cell_type": "markdown",
   "metadata": {
    "slideshow": {
     "slide_type": "fragment"
    }
   },
   "source": [
    "\n",
    "![MLP consolidated](images/mlp-consolidated2.png)"
   ]
  },
  {
   "cell_type": "markdown",
   "metadata": {
    "collapsed": true,
    "slideshow": {
     "slide_type": "slide"
    }
   },
   "source": [
    "Compute Graph\n",
    "- Vectorized form\n",
    "![MLP Compute Graph](images/mlp-compute-graph.png)"
   ]
  },
  {
   "cell_type": "markdown",
   "metadata": {
    "slideshow": {
     "slide_type": "slide"
    }
   },
   "source": [
    "![Backprop Node](images/backprop-node2.png)"
   ]
  },
  {
   "cell_type": "markdown",
   "metadata": {
    "slideshow": {
     "slide_type": "slide"
    }
   },
   "source": [
    "![Backprop Node](images/backprop-node-jacobian.png)"
   ]
  },
  {
   "cell_type": "markdown",
   "metadata": {
    "slideshow": {
     "slide_type": "slide"
    }
   },
   "source": [
    "$$J = {\\partial(\\mathbf{F}) \\over \\partial(\\mathbf{W})} =  \n",
    "\\left\\vert\\matrix{{\\partial f_1 \\over \\partial w_1} & {\\partial f_1 \\over \\partial w_2} & {\\partial f_1 \\over \\partial w_3} \\cr \n",
    "{\\partial f_2 \\over \\partial w_1} & {\\partial f_2\\over \\partial w_2} & {\\partial f_2 \\over \\partial w_3} \\cr \n",
    "{\\partial f_3 \\over \\partial w_1} & {\\partial f_3 \\over \\partial w_2} & {\\partial f_3 \\over \\partial w_3}}\\right\\vert $$\n",
    "- Activation of neuron n:\n",
    "    - $f_n$\n",
    "- Parameters of neuron n:\n",
    "    - $w_n$"
   ]
  },
  {
   "cell_type": "markdown",
   "metadata": {
    "slideshow": {
     "slide_type": "fragment"
    }
   },
   "source": [
    "$$J = {\\partial(\\mathbf{F}) \\over \\partial(\\mathbf{W})} =  \n",
    "\\left\\vert\\matrix{{\\partial f_1 \\over \\partial w_1} & 0 & 0 \\cr \n",
    "0 & {\\partial f_2\\over \\partial w_2} & 0 \\cr \n",
    "0 & 0 & {\\partial f_3 \\over \\partial w_3}}\\right\\vert $$"
   ]
  },
  {
   "cell_type": "markdown",
   "metadata": {
    "collapsed": true,
    "slideshow": {
     "slide_type": "fragment"
    }
   },
   "source": [
    "![Mlp backprop compute graph](images/mlp-backprop-graph.png)"
   ]
  },
  {
   "cell_type": "markdown",
   "metadata": {
    "slideshow": {
     "slide_type": "slide"
    }
   },
   "source": [
    "\n",
    "![MLP XOR Start](images/mlp-xor-start.png)\n",
    "\n"
   ]
  },
  {
   "cell_type": "markdown",
   "metadata": {
    "slideshow": {
     "slide_type": "fragment"
    }
   },
   "source": [
    "\n",
    "![MLP XOR Start](images/mlp-xor-end.png)\n"
   ]
  },
  {
   "cell_type": "markdown",
   "metadata": {
    "slideshow": {
     "slide_type": "skip"
    }
   },
   "source": [
    "\n",
    "![MLP XOR Start](images/mlp-xor-end.png)\n",
    "\n"
   ]
  }
 ],
 "metadata": {
  "anaconda-cloud": {},
  "celltoolbar": "Slideshow",
  "kernelspec": {
   "display_name": "Python [default]",
   "language": "python",
   "name": "python3"
  },
  "language_info": {
   "codemirror_mode": {
    "name": "ipython",
    "version": 3
   },
   "file_extension": ".py",
   "mimetype": "text/x-python",
   "name": "python",
   "nbconvert_exporter": "python",
   "pygments_lexer": "ipython3",
   "version": "3.5.2"
  }
 },
 "nbformat": 4,
 "nbformat_minor": 1
}
