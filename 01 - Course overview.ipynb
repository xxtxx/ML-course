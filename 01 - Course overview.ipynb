{
 "cells": [
  {
   "cell_type": "markdown",
   "metadata": {
    "slideshow": {
     "slide_type": "slide"
    }
   },
   "source": [
    "# Foundations of Machine Learning\n",
    "## Course overview"
   ]
  },
  {
   "cell_type": "markdown",
   "metadata": {
    "slideshow": {
     "slide_type": "slide"
    }
   },
   "source": [
    "### Learning objectives:\n",
    "\n",
    "- Build predictive models from training data\n",
    "- Correctly evaluate predictive models\n",
    "- Analyze and compare the performance of different models\n",
    "- Reason about the mathematical foundations of data mining techniques\n",
    "- Recognize when a predictive model is under/overfitting\n",
    "- Understand and exploit the bias-variance tradeoff\n",
    "- Combine the above with dimension-reduction techniques\n",
    "- Visualize and explore data using embeddings and clustering"
   ]
  },
  {
   "cell_type": "markdown",
   "metadata": {
    "collapsed": true,
    "slideshow": {
     "slide_type": "slide"
    }
   },
   "source": [
    "### Lecturers:\n",
    "\n",
    "- Joaquin Vanschoren (j.vanschoren@tue.nl) MF 7.104a\n",
    "- Vlado Menkovski (v.menkovski@tue.nl) MF 7.097b\n",
    "- Anne Driemel (a.driemel@tue.nl) MF 7.073"
   ]
  },
  {
   "cell_type": "markdown",
   "metadata": {
    "slideshow": {
     "slide_type": "slide"
    }
   },
   "source": [
    "### Contact hours:\n",
    "\n",
    "- Mondays, 10:45 - 12:30: Plenary Lectures (AUD 3)\n",
    "- Thursdays, 13:45 - 15:30: Tutorials and Feedback (AUD 3)\n",
    "- Thursdays, 15:45 - 17:30: Plenary Lectures (Flux 1.03)"
   ]
  },
  {
   "cell_type": "markdown",
   "metadata": {
    "collapsed": true,
    "slideshow": {
     "slide_type": "slide"
    }
   },
   "source": [
    "### Course materials: \n",
    "  \n",
    "- Lecture materials (Notebooks+PDFs) on GitHub\n",
    "    - https://github.com/joaquinvanschoren/ML-course\n",
    "    - The README contains pointers to relevant books\n",
    "- See Canvas for:\n",
    "    - Syllabus\n",
    "    - Announcements, discussions\n",
    "    - Assignments, grades"
   ]
  },
  {
   "cell_type": "markdown",
   "metadata": {
    "slideshow": {
     "slide_type": "slide"
    }
   },
   "source": [
    "### Evaluation:\n",
    "\n",
    "- No exam, only assignments (4 problem sets)\n",
    "- Preliminary(!) overview:\n",
    "\n",
    "    - 1: Linear Models, Model selection, Ensembles\n",
    "        - Released Feb 9 , Deadline Feb 23\n",
    "    - 2: Kernel method and Bayesian Inference\n",
    "        - Released Feb 23, Deadline Mar 16\n",
    "    - 3: Dimensionality reduction, Embeddings\n",
    "        - Released Mar 16, Deadline Mar 30\n",
    "    - 4: Deep learning\n",
    "        - Released Mar 30, Deadline Apr 13"
   ]
  },
  {
   "cell_type": "markdown",
   "metadata": {
    "slideshow": {
     "slide_type": "subslide"
    }
   },
   "source": [
    "- Work in teams of 2 students\n",
    "    - Free choice, rotated after **every** assignment\n",
    "\n",
    "- Passing grade: 6/10 over all assignments"
   ]
  }
 ],
 "metadata": {
  "anaconda-cloud": {},
  "celltoolbar": "Edit Metadata",
  "kernelspec": {
   "display_name": "Python [default]",
   "language": "python",
   "name": "python3"
  },
  "language_info": {
   "codemirror_mode": {
    "name": "ipython",
    "version": 3
   },
   "file_extension": ".py",
   "mimetype": "text/x-python",
   "name": "python",
   "nbconvert_exporter": "python",
   "pygments_lexer": "ipython3",
   "version": "3.5.2"
  }
 },
 "nbformat": 4,
 "nbformat_minor": 2
}
